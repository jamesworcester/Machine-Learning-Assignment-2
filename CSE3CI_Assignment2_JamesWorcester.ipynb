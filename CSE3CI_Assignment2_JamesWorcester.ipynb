{
 "cells": [
  {
   "cell_type": "markdown",
   "id": "a426a9bb",
   "metadata": {},
   "source": [
    "# CSE3CI: Machine Learning - Assignment 2\n",
    "Student Name: James Worcester\\\n",
    "Student Number: 20767086"
   ]
  },
  {
   "cell_type": "markdown",
   "id": "cf702b62",
   "metadata": {},
   "source": [
    "## (Preliminary Download the data"
   ]
  },
  {
   "cell_type": "markdown",
   "id": "dc1800d5",
   "metadata": {},
   "source": [
    "### Note:\n",
    "1. Since the Fashion MNIST dataset is a black and white image dataset, the shape of\n",
    "the dataset is (dataset_length, 28,28). But to fit data into a conv2d layer, we need\n",
    "to make the input shape comply with its required format: (batch_size,\n",
    "image_width, image_depth, image_channels). Although batch_size can be\n",
    "decided later when training it, we will still need to tell the number of image\n",
    "channels here. Therefore, we can reshape the dataset into (dataset_length,\n",
    "28,28,1).\n",
    "\n",
    "\n",
    "2. When loading the fashion_mnist data, some students may meet an issue with an\n",
    "error message ModuleNotFoundError: No module named 'tensorflow_core.estimator'.\n",
    "You can solve this issue by making sure that both tensorflow and tensorflow-\n",
    "estimator are in the same version in your anaconda environment. In this case, you\n",
    "just need to downgrade tensorflow-estimator to 1.15.1."
   ]
  },
  {
   "cell_type": "code",
   "execution_count": 1,
   "id": "3d17e969",
   "metadata": {},
   "outputs": [
    {
     "name": "stderr",
     "output_type": "stream",
     "text": [
      "Using TensorFlow backend.\n"
     ]
    },
    {
     "name": "stdout",
     "output_type": "stream",
     "text": [
      "Downloading data from http://fashion-mnist.s3-website.eu-central-1.amazonaws.com/train-labels-idx1-ubyte.gz\n",
      "32768/29515 [=================================] - 0s 9us/step\n",
      "Downloading data from http://fashion-mnist.s3-website.eu-central-1.amazonaws.com/train-images-idx3-ubyte.gz\n",
      "26427392/26421880 [==============================] - 4s 0us/step\n",
      "Downloading data from http://fashion-mnist.s3-website.eu-central-1.amazonaws.com/t10k-labels-idx1-ubyte.gz\n",
      "8192/5148 [===============================================] - 0s 0us/step\n",
      "Downloading data from http://fashion-mnist.s3-website.eu-central-1.amazonaws.com/t10k-images-idx3-ubyte.gz\n",
      "4423680/4422102 [==============================] - 2s 1us/step\n"
     ]
    }
   ],
   "source": [
    "from keras.datasets import fashion_mnist\n",
    "(x_train, y_train), (x_test, y_test) = fashion_mnist.load_data()\n",
    "# reshape dataset to have a single channel\n",
    "x_train = x_train.reshape((x_train.shape[0], 28, 28, 1))\n",
    "x_test = x_test.reshape((x_test.shape[0], 28, 28, 1))"
   ]
  },
  {
   "cell_type": "markdown",
   "id": "4fdb890d",
   "metadata": {},
   "source": [
    "## Task 1: Build a Neural Network WITHOUT Convolutional Layers\n",
    "1. Build a neural network without convolutional layers to do the classification task (hint: you will need the use of dense layers). Then, you can change the model structure (i.e., number of dense layers, number of neurons in dense layers, or activation functions), to be able to improve network performance."
   ]
  },
  {
   "cell_type": "code",
   "execution_count": null,
   "id": "df8b6311",
   "metadata": {},
   "outputs": [],
   "source": []
  },
  {
   "cell_type": "markdown",
   "id": "76c1b657",
   "metadata": {},
   "source": [
    "## Task 2: Build a Neural Network WITH Convolutional Layers"
   ]
  },
  {
   "cell_type": "markdown",
   "id": "b1b97c08",
   "metadata": {},
   "source": [
    "2. Build a neural network with the use of convolutional layers (you can decide other layer types you want to include in your network). Then, you can change: the number of convolutional layers, the number of filters, or activation function functions in convolutional layers, to be able to improve network performance."
   ]
  },
  {
   "cell_type": "code",
   "execution_count": null,
   "id": "25104841",
   "metadata": {},
   "outputs": [],
   "source": []
  },
  {
   "cell_type": "markdown",
   "id": "ac9a5abf",
   "metadata": {},
   "source": [
    "## Task 3: Change the type of Optimizer or Learning Rate that you applied in the previous tasks"
   ]
  },
  {
   "cell_type": "markdown",
   "id": "7c7469ee",
   "metadata": {},
   "source": [
    "3. Change the type of optimizer or learning rate that you applied in the previous tasks, and see how these changes can influence model\n",
    "performance (You can keep the final network structure you applied in task 2, and try at least one different optimizer setting)."
   ]
  },
  {
   "cell_type": "markdown",
   "id": "4a8e633a",
   "metadata": {},
   "source": [
    "### Task 3.1: Change Task 1 Optimizer or Learning Rate"
   ]
  },
  {
   "cell_type": "code",
   "execution_count": null,
   "id": "8588026c",
   "metadata": {},
   "outputs": [],
   "source": []
  },
  {
   "cell_type": "markdown",
   "id": "43a033ff",
   "metadata": {},
   "source": [
    "### Task 3.2: Change Task 2 Optimizer or Learning Rate"
   ]
  },
  {
   "cell_type": "code",
   "execution_count": null,
   "id": "fff56da5",
   "metadata": {},
   "outputs": [],
   "source": []
  }
 ],
 "metadata": {
  "kernelspec": {
   "display_name": "Python 3 (ipykernel)",
   "language": "python",
   "name": "python3"
  },
  "language_info": {
   "codemirror_mode": {
    "name": "ipython",
    "version": 3
   },
   "file_extension": ".py",
   "mimetype": "text/x-python",
   "name": "python",
   "nbconvert_exporter": "python",
   "pygments_lexer": "ipython3",
   "version": "3.7.13"
  }
 },
 "nbformat": 4,
 "nbformat_minor": 5
}
